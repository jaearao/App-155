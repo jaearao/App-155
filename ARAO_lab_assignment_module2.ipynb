{
  "nbformat": 4,
  "nbformat_minor": 0,
  "metadata": {
    "colab": {
      "provenance": []
    },
    "kernelspec": {
      "name": "python3",
      "display_name": "Python 3"
    }
  },
  "cells": [
    {
      "cell_type": "markdown",
      "metadata": {
        "id": "G0BcK0H_G1Iu"
      },
      "source": [
        "# **AP155 Lab Assignment**\n",
        "## Module 2: Solution of Linear and Nonlinear Equations\n",
        "\n",
        "_Instructions_: Answer each problem as completely as you can. Discuss **all** your answers as clearly and concisely as possible.\n",
        "\n",
        "_Scoring Criteria_: 50% - *correctness of code*; 50% - *discussion of the code and results*. Maximum score is **100 points**.\n",
        "\n"
      ]
    },
    {
      "cell_type": "markdown",
      "metadata": {
        "id": "PeHZ9kP8JaVR"
      },
      "source": [
        "### Student Information\n",
        "\n",
        "_Full Name (Last Name, First Name)_: Arao, John Robert \\\n",
        "_Student No._: 2022-01967 \\\n",
        "_Section_: TX-3"
      ]
    },
    {
      "cell_type": "markdown",
      "metadata": {
        "id": "Hc183co-J4eI"
      },
      "source": [
        "### Submission Information\n",
        "\n",
        "_Date and Time Submitted (most recent upload)_: 10/06/2024 - 11:10 pm\n",
        "\n",
        "**HONOR PLEDGE** I affirm that I have upheld the highest principles of honesty and integrity in my academic work and that this lab assignment is my own work.\n",
        "\n",
        "**Sign here with your full name:** **John Robert Arao**"
      ]
    },
    {
      "cell_type": "markdown",
      "metadata": {
        "id": "4LUwfsfMBmvd"
      },
      "source": [
        "### Grading Information (c/o Lab Instructor)\n",
        "\n",
        "TOTAL SCORE: **XX**/100\n",
        "\n",
        "Score breakdown:\n",
        "* Problem 1 - XX/30\n",
        "* Problem 2 - XX/30\n",
        "* Problem 3 - XX/40\n",
        "\n"
      ]
    },
    {
      "cell_type": "markdown",
      "metadata": {
        "id": "kBX9EyMLOnXj"
      },
      "source": [
        "### PROBLEM 1\n",
        "\n",
        "**Solve for eigenvalues and eigenvectors of a symmetric matrix**\n",
        "\n",
        "1. Use numpy's $\\tt linalg$ package to find the eigenvalues and eigenvectors of the ff. symmetrix matrix *(15 pts.)*:\n",
        "\n",
        "$ \\begin{equation}\n",
        "{\\bf A} =\n",
        "\\begin{pmatrix}\n",
        "8 & -2 & -20 \\\\\n",
        "-2 & -3 & -9 \\\\\n",
        "-20 & -9 & -3\n",
        "\\end{pmatrix} \\end{equation} $\n",
        "\n",
        "2. Check your answer numerically; that is, check that $\\bf AV = VD$, where the $N$ x $N$ matrix $\\bf V$ has the eigenvectors as its columns and $\\bf D$ is the diagonal matrix with the eigenvalues $\\lambda_i$ as its diagonal entries. *(15 pts.)*"
      ]
    },
    {
      "cell_type": "code",
      "metadata": {
        "id": "GABjwlXCR97i",
        "colab": {
          "base_uri": "https://localhost:8080/"
        },
        "outputId": "1968b2be-9d3f-4592-abaa-29866f5d9970"
      },
      "source": [
        "import numpy as np\n",
        "\n",
        "#Define the matrix given using numpy array\n",
        "A = np.array([[8,-2,-20],[-2,-3,-9],[-20,-9,-3]])\n",
        "\n",
        "#use the linalg package to extract the eigenvectors and eigenvalues\n",
        "D, V = np.linalg.eigh(A)\n",
        "\n",
        "#Print the results\n",
        "print('The eigenvalues are: ')\n",
        "print(D)\n",
        "\n",
        "print()\n",
        "print('The eigenvectors are: ')\n",
        "print(V)"
      ],
      "execution_count": 41,
      "outputs": [
        {
          "output_type": "stream",
          "name": "stdout",
          "text": [
            "The eigenvalues are: \n",
            "[-21.99606195   0.16021522  23.83584674]\n",
            "\n",
            "The eigenvectors are: \n",
            "[[ 0.52496527  0.36793396 -0.76748685]\n",
            " [ 0.40892672 -0.89987151 -0.15169114]\n",
            " [ 0.74645187  0.2342133   0.62285932]]\n"
          ]
        }
      ]
    },
    {
      "cell_type": "markdown",
      "source": [
        "### Discussion\n",
        "\n",
        "Since the given matrix is a 3x3 square matrix it is expected to get three eigenvalues. From the representation above,\n",
        "\\begin{align}\n",
        "     AV = VD\n",
        "  \\end{align}\n",
        "where, V is the eigenvectors and D is the eigvalues.\n",
        "\n",
        "We can also rewrite this in detereminant of matrix form as the following:\n",
        "\\begin{align}\n",
        "   |A - DI| = 0\n",
        "  \\end{align}\n",
        "\n",
        "This would suggest that the number of elements in the diagonal gives the number of the eigenvalues D.\n"
      ],
      "metadata": {
        "id": "CeE79yfn-gP2"
      }
    },
    {
      "cell_type": "code",
      "source": [
        "#use the numpy frobenius norm fuction to compute the error between the two matrix\n",
        "err = np.linalg.norm(np.matmul(A,V) - np.matmul(V,np.diag(D)))/np.linalg.norm(np.matmul(A,V))\n",
        "print('The relative error is: ' + str(err))"
      ],
      "metadata": {
        "colab": {
          "base_uri": "https://localhost:8080/"
        },
        "id": "w7rEwJAXcCHu",
        "outputId": "77043f44-a623-4d06-f60b-c639512ea18e"
      },
      "execution_count": 47,
      "outputs": [
        {
          "output_type": "stream",
          "name": "stdout",
          "text": [
            "The relative error is: 3.1023925402670955e-16\n"
          ]
        }
      ]
    },
    {
      "cell_type": "markdown",
      "source": [
        "##Discussion\n",
        "\n",
        "> In cheking if the derived eigenvectors from the eigenvalues, we must inspect if the first equation stands, i.e. if the relative error of the values of the rhs and lhs of the equation is very small.\n",
        "\n",
        "From the results, the relative error is in $ 10^{-16} $ order. This is very small and can be accounted to the limitations of the computer.\n",
        "\n",
        "> **Hence, we can conclude that the computed eigenvectors and eigenvalues from numpy's linalg package is accurate**\n",
        "\n",
        "\n",
        "\n",
        "\n"
      ],
      "metadata": {
        "id": "j8jvoHycB-DQ"
      }
    },
    {
      "cell_type": "markdown",
      "metadata": {
        "id": "HceOjNu-VfN9"
      },
      "source": [
        "### PROBLEM 2\n",
        "\n",
        "**Solve a nonlinear equation using the relaxation method**\n",
        "\n",
        "Consider the equation $x=1- e^{-cx}$, where $c$ is a known parameter and $x$ is unknown. This equation arises in a variety of situations, including the physics of contact processes, mathematical models of epidemics, and the theory of random graphs.\n",
        "\n",
        "1. Write a program to solve this equation for $x$ using the relaxation method for the case $c = 2$. Calculate your solution to an accuracy of at least $10^{-6}$. *(10 pts.)*\n",
        "\n",
        "2. Modify your program to calculate the solution for values of $c$ from 0 to 3 in steps of 0.01. *(10 pts.)*\n",
        "\n",
        "3. Make a plot of $x$ as a function of $c$. Describe the different regimes that you see. *(10 pts.)*"
      ]
    },
    {
      "cell_type": "code",
      "metadata": {
        "id": "p28JF-OQYock",
        "colab": {
          "base_uri": "https://localhost:8080/"
        },
        "outputId": "2c28d385-55d3-4ca7-f3d8-4067a39c4b86"
      },
      "source": [
        "#define the given values\n",
        "c = 2\n",
        "ac = 10 ** -6\n",
        "\n",
        "#define all initial guesses\n",
        "er = 1     #this should initially satisfy the when loop\n",
        "x = 1.0\n",
        "\n",
        "#use the relaxation method\n",
        "while er > ac : #use a while loop to minimize the error to the desired accuracy\n",
        "  #define the given equation and store the initial value to a dummy variable x2\n",
        "  x,x1= 1-np.exp(-c*x), x\n",
        "  #compute the error of the relaxation method\n",
        "  er = abs((x-x1)/(1-1/(-c*np.exp(-c*x))))\n",
        "  print(x)\n",
        "\n",
        "#print the values\n",
        "print()\n",
        "print(f'The values of x converges to {x:.3e}')\n"
      ],
      "execution_count": 58,
      "outputs": [
        {
          "output_type": "stream",
          "name": "stdout",
          "text": [
            "0.8646647167633873\n",
            "0.8225966691808597\n",
            "0.8070247503317746\n",
            "0.8009201942366403\n",
            "0.7984747083247583\n",
            "0.7974866394625985\n",
            "0.797086049491047\n",
            "0.796923413762181\n",
            "0.7968573480008734\n",
            "0.7968305046795713\n",
            "0.7968195968986895\n",
            "0.7968151643557075\n",
            "0.7968133630966887\n",
            "\n",
            "The values of x converges to 7.968e-01\n"
          ]
        }
      ]
    },
    {
      "cell_type": "markdown",
      "source": [
        "#Discussion\n",
        "\n",
        "> The relaxation method successfully works if the values of the iterated nonlinear equation converges to a point.\n",
        "\n",
        "In the results, the iterations converges the value of x to $0.7968$. This is guided with an error less than $10^{-6}$ .\n",
        "\n",
        "> **Hence, we can conclude that the relaxation method successfully solves the nonlinear equation with an accuracy of $10^{-6}$**"
      ],
      "metadata": {
        "id": "VDJ9cDpdv2dl"
      }
    },
    {
      "cell_type": "code",
      "source": [
        "import matplotlib.pyplot as plt\n",
        "from matplotlib import style\n",
        "\n",
        "# redifine c to values from 0 to 3 in steps of 0.01 using numpy arrange function\n",
        "c = np.arange(0,3.01,0.01)\n",
        "\n",
        "# set a list with the initial value for c=0\n",
        "x_values =[0]\n",
        "\n",
        "#solve the values of x from 0.01 to 3\n",
        "for k in range(1, len(c)):\n",
        "  #define all initial guesses\n",
        "  ac = 10 ** -6\n",
        "  er = 1\n",
        "  x1 = 1\n",
        "  while er > ac :\n",
        "    x1,x2= 1-np.exp(-c[k]*x1), x1\n",
        "    er = abs((x1-x2)/(1-1/(-c[k]*np.exp(-c[k]*x1))))\n",
        "  x_values.append(x1)\n",
        "\n",
        "#make and customize the plot\n",
        "plt.style.use('dark_background')\n",
        "plt.plot(c,x_values)\n",
        "plt.xlabel('c')\n",
        "plt.ylabel('x')\n",
        "plt.title('Values of x with varying c')\n",
        "plt.show()"
      ],
      "metadata": {
        "colab": {
          "base_uri": "https://localhost:8080/",
          "height": 472
        },
        "id": "KNe1tbqiv21d",
        "outputId": "86140dde-68e1-4421-f939-7650aa79ae09"
      },
      "execution_count": 59,
      "outputs": [
        {
          "output_type": "display_data",
          "data": {
            "text/plain": [
              "<Figure size 640x480 with 1 Axes>"
            ],
            "image/png": "[encoded data removed]"
          },
          "metadata": {}
        }
      ]
    },
    {
      "cell_type": "markdown",
      "source": [
        "## Discussion\n",
        "\n",
        "With the established accuracy of the relaxation method above, we can iterate it to varying values of c from 0 to 3. However, the value of x with $c = 0$ cannot be computed in the same manner due to the nature of computing its error putting the value of c in denominator. Hence, we can just follow the trend of the subsequent values, which converges to zero.\n",
        "\n",
        "Meanwhile, rewriting the given equation,\n",
        "\\begin{align}\n",
        "    x = 1 - \\frac{1}{e^{cx}}\n",
        "  \\end{align}\n",
        "\n",
        "This would suggest that the second term's maximum value is 1, which in turn makes $x = 0$. Additionally, as c approaches infinity, the second term approaches 0, which in turn makes $x=1$. Lastly, we can expect an exponential graph from the exponential term.\n",
        "\n",
        "> **All of the expected behaviors of the function is consistent with the produced graph from the values of x using the relaxation method.**\n",
        "\n"
      ],
      "metadata": {
        "id": "kgWngFidNHyN"
      }
    },
    {
      "cell_type": "markdown",
      "metadata": {
        "id": "BY5x-mZsYoqG"
      },
      "source": [
        "### PROBLEM 3\n",
        "\n",
        "**Physics Application: Calculating the Lagrange point**\n",
        "\n",
        "_Refer to Exercise 6.16 of the Newman text._ The $L_1$ Lagrange point is the point between the Earth and the Moon at which a satellite will orbit the Earth in perfect synchrony with the Moon, staying always in between the two.\n",
        "\n",
        "Assuming circular orbits, and assuming that the Earth is much more massive than either the Moon or the satellite, the distance $r$ from the center of the Earth to the $L_1$ point satisfies\n",
        "$$ \\begin{equation}\n",
        "\\frac{GM}{r^2} - \\frac{Gm}{(R-r)^2} = \\omega^2 r,\n",
        "\\end{equation} $$\n",
        "where $R$ is the distance from the Earth to the Moon, $M$ and $m$ are the Earth and Moon masses, $G$ is Newton's gravitational constant, and $\\omega$ is the angular velocity of both the Moon and the satellite."
      ]
    },
    {
      "cell_type": "markdown",
      "metadata": {
        "id": "LlDDXIZ46CKU"
      },
      "source": [
        "Use Newton's method to solve for the distance r from the Earth to the $L_1$ point. Compute a solution accurate to at least four significant figures."
      ]
    },
    {
      "cell_type": "code",
      "metadata": {
        "id": "Jiu5YAx6aMmq",
        "colab": {
          "base_uri": "https://localhost:8080/"
        },
        "outputId": "6221fca3-7e73-48c9-b4bb-e83188785fc5"
      },
      "source": [
        "#Write all the given values from exercise 6.16\n",
        "G = 6.674 * 10**-11\n",
        "M = 5.974 * 10**24\n",
        "m = 7.348 * 10**22\n",
        "R = 3.844 * 10**8\n",
        "w = 2.662 * 10**-6\n",
        "\n",
        "#set the accuracy to have an accurate solution to atleast 4 significant figures\n",
        "acc = 10**-6\n",
        "\n",
        "#define the function given\n",
        "def f(r):\n",
        "  return ((G*M/(r**2) - G*m/(R-r)**2) / w**2)\n",
        "\n",
        "#define the derivative of the function\n",
        "def g(r):\n",
        "  return ((-2*G*M/(r**3) - 2*G*m/(R-r)**3)/w**2)\n",
        "\n",
        "#define all initial guesses\n",
        "delta = 1.0   #make sure that delta is higher than the accuracy\n",
        "r = 1.0       #this cannot be a zero since this will be used as a denominator\n",
        "\n",
        "#use Newton's method to find the root\n",
        "while abs(delta)>acc:       #this ensures that the accuracy will be met\n",
        "  delta = (f(r) / g(r))     #this also serve as the central difference\n",
        "  r -= delta                #this is based on the derivations of Newton's method\n",
        "\n",
        "#print the converged value using a format specifier to 4 significant figures\n",
        "print(f\"L1 point distance from Earth: {r:.3e} m\")"
      ],
      "execution_count": 63,
      "outputs": [
        {
          "output_type": "stream",
          "name": "stdout",
          "text": [
            "L1 point distance from Earth: 3.460e+08 m\n"
          ]
        }
      ]
    },
    {
      "cell_type": "markdown",
      "source": [
        "## Discussion\n",
        "\n",
        "The Lagrange point, as stated above, is the stable point between the two bodies where it is constantly there. Adopting all the assumed conditions above, we can theoretically compute the L1 by solving the nonlinear equation through a more accurate method -- the Newton's method.\n",
        "\n",
        "\\begin{align}\n",
        "    x' = x - \\Delta x = x - \\frac{f(x)}{f'(x)}\n",
        "  \\end{align}\n",
        "\n",
        "The Newton's method is dependent on the slope (derivative) of the function on the initial guess. Hence, this is only applicable on functions with known derivatives. Luckily, the assigned problem is easily differentiable.\n",
        "\n",
        "To ensure accuracy, $ \\epsilon \\approx \\Delta x $ can be used to estimate the error for small error $\\epsilon$. This error can be used to compare with the desired accuracy to continue the iteration until the desired accuracy is met. Since the expected value is large, $10^{-6}$ accuracy must be sufficient. Also, we can cut the significant figures to 4 to increase the accuracy.\n",
        "\n",
        "For sanity check, $R>r$ and r should be nearer to the moon as it has lesser mass compare to Earth.\n",
        "\n",
        ">**Hence, the value of $r$ from the equation that describes the point $L_1$ is $3.460 \\times 10^{08}$ m.**\n"
      ],
      "metadata": {
        "id": "5t_8HHaCNMFW"
      }
    }
  ]
}