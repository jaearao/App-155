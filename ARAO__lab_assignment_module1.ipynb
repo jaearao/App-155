{
  "nbformat": 4,
  "nbformat_minor": 0,
  "metadata": {
    "colab": {
      "provenance": [],
      "include_colab_link": true
    },
    "kernelspec": {
      "name": "python3",
      "display_name": "Python 3"
    }
  },
  "cells": [
    {
      "cell_type": "markdown",
      "metadata": {
        "id": "view-in-github",
        "colab_type": "text"
      },
      "source": [
        "<a href=\"https://colab.research.google.com/github/jaearao/App-155/blob/master/ARAO__lab_assignment_module1.ipynb\" target=\"_parent\"><img src=\"https://colab.research.google.com/assets/colab-badge.svg\" alt=\"Open In Colab\"/></a>"
      ]
    },
    {
      "cell_type": "markdown",
      "metadata": {
        "id": "G0BcK0H_G1Iu"
      },
      "source": [
        "# **AP155 Lab Assignment**\n",
        "## Module 1: Integrals and Derivatives\n",
        "\n",
        "_Instructions_: Answer each problem as completely as you can. Discuss **all** your answers as clearly and concisely as possible.\n",
        "\n",
        "_Scoring Criteria_: 50% - *correctness of code*; 50% - *discussion of the code and results*. Maximum score is **100 points**.\n",
        "\n",
        "\n"
      ]
    },
    {
      "cell_type": "markdown",
      "metadata": {
        "id": "PeHZ9kP8JaVR"
      },
      "source": [
        "### Student Information\n",
        "\n",
        "_Full Name (Last Name, First Name)_: John Robert B. Arao \\\n",
        "_Student No._: 2022-01967 \\\n",
        "_Section_: TX-3"
      ]
    },
    {
      "cell_type": "markdown",
      "metadata": {
        "id": "Hc183co-J4eI"
      },
      "source": [
        "### Submission Information\n",
        "\n",
        "_Date and Time Submitted (most recent upload)_: 9/20\n",
        "\n",
        "**HONOR PLEDGE** I affirm that I have upheld the highest principles of honesty and integrity in my academic work and that this lab assignment is my own work.\n",
        "\n",
        "**Sign here with your full name:** John Robert B. Arao"
      ]
    },
    {
      "cell_type": "markdown",
      "metadata": {
        "id": "X1UGsRpW-eQs"
      },
      "source": [
        "### Grading Information (c/o Lab Instructor)\n",
        "\n",
        "TOTAL SCORE: **XX**/100\n",
        "\n",
        "Score breakdown:\n",
        "* Problem 1 - XX/30\n",
        "* Problem 2 - XX/30\n",
        "* Problem 3 - XX/40\n",
        "\n",
        "_Date and Time Scored (MM/DD/YYYY HH:MM AM/PM):_"
      ]
    },
    {
      "cell_type": "markdown",
      "metadata": {
        "id": "LxWuqiCFMsEh"
      },
      "source": [
        "### PROBLEM 1\n",
        "**Integration using the trapezoidal rule and Simpson's rule**\n",
        "\n",
        "Calculate the integral of the function $ 2x^4 + 3x^2 + 4x + 5$ from $x=0$ to $x=5$.\n",
        "\n",
        "1. Do the numerical calculation using the trapezoidal rule with 10, 100, and 1,000 slices. Describe each step of the calculation clearly and concisely. *(10 pts.)*\n",
        "\n",
        "2. What are the percentage errors of your answers in (1)? *(10 pts.)*\n",
        "\n",
        "3. Repeat the calculation using Simpson's rule with 10, 100, and 1,000 slices. Describe each step of the calculation clearly and concisely. *(5 pts.)*\n",
        "\n",
        "4. What are the percentage errors of your answers in (3)? How do they compare with the results from (1) for the same number of slices? *(5 pts.)*"
      ]
    },
    {
      "cell_type": "markdown",
      "source": [
        "### Trapezoidal Rule\n",
        "\\begin{align}\n",
        "        \\text{I(a,b) = } &\\int_a^b \\mathrm{d}x \\, f(x). \\\\[1em]\n",
        "    \\end{align}\n",
        "\\\n",
        "\\\n",
        "Let h be the width and k is the index of the slice. Then, \\\n",
        "\n",
        "\\begin{align}\n",
        "          A_k = \\frac{1h}{2} \\sum_{1}^N [f(a+(k-1)h)+f(a+kh)]\n",
        "        \\end{align}\n",
        "\n",
        "\n",
        "Expanding,\n",
        "\n",
        "\\begin{align}\n",
        "          I(a,b) = h \\left[\\frac{1}{2}f(a) + \\frac{1}{2}f(b) + \\sum_{k=1}^{N-1} f(a+kh)\\right]\n",
        "        \\end{align}\n",
        "\n",
        "### Simpson's Rule\n",
        "\n",
        "Consider points -h, 0, and h, we can fit it each point in the quadratic $ f(x) = Ax^2 + Bx + C$. Then, we can find the values of A, B, and C. The area under the curve will be given by:\n",
        "\\begin{align}\n",
        "          &\\int_{-h}^h dx\\ (Ax^2 + Bx + C) = \\frac{1}{3} h \\left[f(-h) + 4f(0) +f(h) \\right] \\\\\n",
        "        \\end{align}\n",
        "Extending,\n",
        "\n",
        "\\begin{align}\n",
        "          \\text{I(a,b) ≃}\\ \\frac{1}{3} h \\left[f(a) + f(b) + 4\\sum_{k=1}^{\\frac{N}{2}} f(a+(2k-1)h) + 2\\sum_{k=1}^{\\frac{N}{2}-1} f(a+2kh) \\right]\n",
        "       \\end{align}"
      ],
      "metadata": {
        "id": "QzYWKzBvlrBI"
      }
    },
    {
      "cell_type": "code",
      "metadata": {
        "id": "hMqWOsbIMoUh",
        "colab": {
          "base_uri": "https://localhost:8080/"
        },
        "outputId": "fefcf235-4ad4-4468-c1c2-891f1ac6d624"
      },
      "source": [
        "import numpy as np\n",
        "def f(x):\n",
        "  return 2*x**4 + 3*x**2 + 4*x + 5\n",
        "\n",
        "#define the number of slice N\n",
        "N = np.array([10 , 100 , 1000])\n",
        "\n",
        "#define the lower bound\n",
        "a = 0\n",
        "\n",
        "#define the upper bound\n",
        "b = 5\n",
        "\n",
        "\n",
        "#define the width h using a for loop\n",
        "h = []\n",
        "for i in N:\n",
        "    x = (b-a)/i\n",
        "    h.append(x)\n",
        "\n",
        "#use the expanded trapezoidal rule\n",
        "I_trap =[]\n",
        "#initiate by extracting each elements of N in a for loop\n",
        "for k in range (1,len(N)+1):  #remember the syntax range(start, end-1)\n",
        "  Num = N[k-1]  #extract the elements of N with a syntax of list indexing n-1\n",
        "  s = 0.5*f(a) + 0.5*f(b) #define the initial value here\n",
        "  for j in range (1, Num): #define the summation\n",
        "    s += f(a+j*h[k-1])\n",
        "  Ij = h[k-1]*s\n",
        "  I_trap.append(Ij)\n",
        "\n",
        "#use the simpson's rule\n",
        "I_simp = []\n",
        "for k in range (1,len(N)+1):\n",
        "  Num = N[k-1]\n",
        "  s = f(a) + f(b)\n",
        "  for l in range (1, (Num//2)+1):\n",
        "    s += 4*f(a+(2*l-1)*h[k-1])\n",
        "  for m in range (1, (Num//2)):\n",
        "    s += 2*f(a+2*m*h[k-1])\n",
        "  Ik = 1/3*h[k-1]*s\n",
        "  I_simp.append(Ik)\n",
        "\n",
        "\n",
        "#define the answer\n",
        "ans = 1450\n",
        "\n",
        "#compute the percent error for trapezoidal rule\n",
        "err_trap = []\n",
        "for i in range(1, len(I_trap)+1):\n",
        "  er = abs((ans-I_trap[i-1])/ans)*100\n",
        "  err_trap.append(er)\n",
        "\n",
        "#compute the percent error for simpson's rule\n",
        "err_simp = []\n",
        "for i in range(1, len(I_simp)+1):\n",
        "  er = abs((ans-I_simp[i-1])/ans)*100\n",
        "  err_simp.append(er)\n",
        "\n",
        "#print the results\n",
        "print('For items 1 & 2,')\n",
        "for i in range(1, len(I_trap)+1):\n",
        "  print('The definite integral using the trapezoidal rule with slice '\n",
        "        + str(N[i-1])+ ' is: '\n",
        "        + str(I_trap[i-1])\n",
        "        + ' with a percent error of '\n",
        "        + str(err_trap[i-1]) + '%.')\n",
        "\n",
        "print('')\n",
        "\n",
        "\n",
        "print('For items 3 & 4,')\n",
        "for i in range(1, len(I_simp)+1):\n",
        "  print('The definite integral using the Simpson\\'s rule with slice '\n",
        "        + str(N[i-1])+ ' is: '\n",
        "        + str(I_simp[i-1])\n",
        "        + ' with a percent error of '\n",
        "        + str(err_simp[i-1]) + '%.')\n",
        "\n",
        "\n"
      ],
      "execution_count": 1,
      "outputs": [
        {
          "output_type": "stream",
          "name": "stdout",
          "text": [
            "For items 1 & 2,\n",
            "The definite integral using the trapezoidal rule with slice 10 is: 1471.4375 with a percent error of 1.478448275862069%.\n",
            "The definite integral using the trapezoidal rule with slice 100 is: 1450.2145812500003 with a percent error of 0.014798706896569988%.\n",
            "The definite integral using the trapezoidal rule with slice 1000 is: 1450.0021458331234 with a percent error of 0.00014798849127240326%.\n",
            "\n",
            "For items 3 & 4,\n",
            "The definite integral using the Simpson's rule with slice 10 is: 1450.0833333333333 with a percent error of 0.005747126436776382%.\n",
            "The definite integral using the Simpson's rule with slice 100 is: 1450.0000083333337 with a percent error of 5.747126657485657e-07%.\n",
            "The definite integral using the Simpson's rule with slice 1000 is: 1450.000000000834 with a percent error of 5.75176994155707e-11%.\n"
          ]
        }
      ]
    },
    {
      "cell_type": "markdown",
      "source": [
        "### Interpretation\n",
        "\n",
        "> In terms of accuracy, we can observe the *trapezoidal rule* to have a **significantly higher approximation error** than the *Simpson's rule.* This is expected as the given function is in the fourth degree polynomial, and Simpson's rule is made for curves. Likewise, trapezoidal rule will be significantly accurate in a trapezoid-like functions.\n",
        "\n",
        "\n",
        "\n",
        "> On the number of slices, **a higher number of slice yields to a lesser approximation error**. This is observed in both rules since having more points considers more changes in the function."
      ],
      "metadata": {
        "id": "QclVqur6mWbz"
      }
    },
    {
      "cell_type": "markdown",
      "metadata": {
        "id": "m2a6sg90R-NX"
      },
      "source": [
        "### PROBLEM 2\n",
        "\n",
        "**Integration using Gaussian quadrature**\n",
        "\n",
        "Calculate the integral from Problem 1 using the Gaussian quadrature method: $ 2x^4 + 3x^2 + 4x + 5$ from $x=0$ to $x=5$.\n",
        "\n",
        "1. Define the function $\\tt gaussxw$ from Appendix E of the Newman text (and run the cell). *(10 pts.)*\n",
        "\n",
        "2. Calculate the integral using the $\\tt gaussxw$ function in (1) and number of slices $N = 3$. Describe each step in the calculation clearly and concisely. *(20 pts.)*"
      ]
    },
    {
      "cell_type": "code",
      "metadata": {
        "id": "YO_PDJ4VIVs5"
      },
      "source": [
        "from numpy import ones, copy, cos, tan, pi, linspace\n",
        "\n",
        "def gaussxw(N):\n",
        "    # Initial approximation to roots of the Legendre polynomial\n",
        "    a = linspace(3,4*N-1,N)/(4*N+2)\n",
        "    x = cos(pi*a+1/(8*N*N*tan(a)))\n",
        "    # Find roots using Newton's method\n",
        "    epsilon = 1e-15\n",
        "    delta = 1.0\n",
        "    while delta > epsilon:\n",
        "        p0 = ones(N,float)\n",
        "        p1 = copy(x)\n",
        "        for k in range(1,N):\n",
        "          p0,p1 = p1,((2*k+1)*x*p1-k*p0)/(k+1)\n",
        "        dp = (N+1)*(p0-x*p1)/(1-x*x)\n",
        "        dx = p1/dp\n",
        "        x -= dx\n",
        "        delta = max(abs(dx))\n",
        "\n",
        "    # Calculate the weights\n",
        "    w = 2*(N+1)*(N+1)/(N*N*(1-x*x)*dp*dp)\n",
        "    return x,w\n",
        "\n",
        "def gaussxwab(N,a,b):\n",
        "    x,w = gaussxw(N)\n",
        "    return 0.5*(b-a)*x+0.5*(b+a),0.5*(b-a)*w"
      ],
      "execution_count": 2,
      "outputs": []
    },
    {
      "cell_type": "code",
      "source": [
        "# define the given function\n",
        "def f(x):\n",
        "  return 2*x**4 + 3*x**2 + 4*x + 5\n",
        "\n",
        "#Input the given conditions\n",
        "N = 3\n",
        "a = 0.0\n",
        "b = 5.0\n",
        "\n",
        "#calculate the sample points and weights, then map them\n",
        "#to the required integration domain\n",
        "x,w = gaussxw(N) #call the gaussxw function\n",
        "xp = 0.5*(b-a)*x + 0.5*(b+a)\n",
        "wp = 0.5*(b-a)*w\n",
        "\n",
        "#initiate the integration\n",
        "s = 0.0 #assign the initial value of the integration\n",
        "for k in range (0,N):\n",
        "  s += wp[k]*f(xp[k]) #add all the values of the functions with their corresponding weights\n",
        "print(s)"
      ],
      "metadata": {
        "colab": {
          "base_uri": "https://localhost:8080/"
        },
        "id": "iGLYzClHq_A3",
        "outputId": "68a40ee2-1af7-46d9-cc13-7dc6c27b66d6"
      },
      "execution_count": 3,
      "outputs": [
        {
          "output_type": "stream",
          "name": "stdout",
          "text": [
            "1450.000000000002\n"
          ]
        }
      ]
    },
    {
      "cell_type": "markdown",
      "metadata": {
        "id": "HceOjNu-VfN9"
      },
      "source": [
        "### PROBLEM 3\n",
        "\n",
        "**Physics Application: Anharmonic Oscillator**\n",
        "\n",
        "_Refer to Exercise 5.10 of the Newman text._ Consider an anharmonic oscillator with potential $V(x)$ symmetric about $x = 0$. Let us set our anharmonic oscillator going with amplitude $a$. That is, at $t = 0$ we release it from rest at position $x = a$ and it swings back towards the origin. Then at $t = 0$ we have $dx/dt = 0$ and the equation for its total energy becomes $E = V(a)$, i.e., the total energy of the particle is given in terms of the amplitude.\n",
        "\n",
        "When the particle reaches the origin for the first time, it has gone through one quarter of a period of the oscillator. The period $T$ is given by: $$ T = \\sqrt{8m} \\int_0^a \\frac{dx}{\\sqrt{V(a)-V(x)}}. $$\n",
        "\n",
        "1. Suppose the potential is $V(x) = x^4$ and the mass of the particle is $m = 1$. Write a Python function that calculates the period of the oscillator for given amplitude a using Gaussian quadrature with $N = 20$ points. Describe each step clearly and concisely. *(20 pts.)*\n",
        "\n",
        "2. Use your function to make a graph of the period for amplitudes ranging from $a = 0$ to $a = 2$. Describe the behavior you find and explain these results clearly and concisely. *(20 pts.)*"
      ]
    },
    {
      "cell_type": "code",
      "source": [
        "import matplotlib.pyplot as plt\n",
        "plt.style.context('dark_background') #Add a style to the graph for later\n",
        "\n",
        "def V(x): # define the function V(x)\n",
        "  return x**4\n",
        "\n",
        "def T(x): #define the function of period T(x)\n",
        "  return ((8*m)**(1/2))/((V(b)-V(x))**(1/2))\n",
        "\n",
        "m = 1                           #assign the mass m from the given\n",
        "B = np.linspace(0,2, num = 50)  #produce a list of numbers with the range 0 to 2 with 50 equal spaces\n",
        "N = 20                          #assign the N of the Gaussian quadrature from the given\n",
        "a = 0                           #assign the lower bound of the integration a as zero\n",
        "\n",
        "h = []                          #make a null list to store all the integration with varying end points\n",
        "for i in range(2,len(B)+1): #remove zero from the data since it will be undefined\n",
        "  b = B[i-1]                #extract the values of B to act as b in the guassianxwab function\n",
        "  x,w = gaussxwab(N,a,b)    #call the guassianwxab function\n",
        "  xp = 0.5*(b)*x + 0.5*(b)\n",
        "  wp = 0.5*(b)*w\n",
        "  s = 0                     #assign the initial value of the integration\n",
        "  for k in range (0,N):     #initiate the integration\n",
        "    s += w[k]*T(x[k])       #calculate the value of the integration\n",
        "  h.append(s)               #store the integration to the list h\n",
        "\n",
        "B = B[1:len(B)]                               #slice the array B to remove the zero as it was undefined in the integration\n",
        "plt.plot(B, h, marker=\"o\", color = 'white')   #initiate the plo with amplitude as the x axis and period as the y axis; customize the plot\n",
        "plt.xlabel('Amplitude')\n",
        "plt.ylabel('Period')\n",
        "plt.title('Amplitude-Period relationship of an Anharmonic Oscillator')\n",
        "plt.grid(True)\n",
        "plt.show()\n"
      ],
      "metadata": {
        "colab": {
          "base_uri": "https://localhost:8080/",
          "height": 472
        },
        "id": "16n-PtWIkeGL",
        "outputId": "d7a0d4b7-875c-4dd4-aca9-887d6260a32a"
      },
      "execution_count": null,
      "outputs": [
        {
          "output_type": "display_data",
          "data": {
            "text/plain": [
              "<Figure size 640x480 with 1 Axes>"
            ],
            "image/png": "[encoded data removed]"
          },
          "metadata": {}
        }
      ]
    },
    {
      "cell_type": "markdown",
      "source": [
        "### Results\n",
        "\n",
        "- Based from the graph, there is an inverese relationship with the period and amplitude of an anharmonic oscillator. This is expected since the difference of V(a) and V(x) as a approaches infinity would push the value of the integrand to zero.\n",
        "\n",
        ">  From here, we can infer that the wave would move so much faster with higher amplitudes as the total energy rises."
      ],
      "metadata": {
        "id": "QUqwvjCPmSoH"
      }
    }
  ]
}